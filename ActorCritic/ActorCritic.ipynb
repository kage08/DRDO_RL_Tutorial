{
 "cells": [
  {
   "cell_type": "markdown",
   "metadata": {},
   "source": [
    "# Actor Critic\n",
    "In this tutorial we solve grid worls using ActorCritic algorithm.\n",
    "\n",
    "## Environment\n",
    "We first setup out RL environment and import relevany libraries."
   ]
  },
  {
   "cell_type": "code",
   "execution_count": 1,
   "metadata": {},
   "outputs": [],
   "source": [
    "import numpy as np\n",
    "import matplotlib.pyplot as plt\n",
    "from tqdm import tqdm\n",
    "import torch as th\n",
    "from torch import nn, optim\n",
    "from torch.nn import functional as F\n",
    "from torch.distributions import Categorical\n",
    "from torch.utils.tensorboard import SummaryWriter\n",
    "from IPython.display import clear_output\n",
    "%matplotlib inline"
   ]
  },
  {
   "cell_type": "code",
   "execution_count": 2,
   "metadata": {},
   "outputs": [
    {
     "data": {
      "image/png": "[encoded data removed]",
      "text/plain": [
       "<Figure size 720x720 with 1 Axes>"
      ]
     },
     "metadata": {
      "needs_background": "light"
     },
     "output_type": "display_data"
    }
   ],
   "source": [
    "DOWN = 0\n",
    "UP = 1\n",
    "LEFT = 2\n",
    "RIGHT = 3\n",
    "actions = [DOWN, UP, LEFT, RIGHT]\n",
    "use_cuda = True\n",
    "device = th.device(\"cuda\") if use_cuda and th.cuda.is_available() else th.device(\"cpu\")\n",
    "\n",
    "GAMMA = 0.9\n",
    "LR=0.001\n",
    "\n",
    "world = \"grid_world2.txt\"\n",
    "goal_reward = 100\n",
    "start_states = [(0, 0), (0, 20), (16, 21)]\n",
    "goal_states = [(9, 5)]\n",
    "max_steps = 10000\n",
    "\n",
    "from grid_world import GridWorldEnv, GridWorldWindyEnv\n",
    "\n",
    "env = GridWorldWindyEnv(\n",
    "    world,\n",
    "    goal_reward=goal_reward,\n",
    "    start_states=start_states,\n",
    "    goal_states=goal_states,\n",
    "    max_steps=max_steps,\n",
    "    action_fail_prob=0.2,\n",
    ")\n",
    "plt.figure(figsize=(10, 10))\n",
    "# Go UP\n",
    "env.step(UP)\n",
    "env.render(ax=plt, render_agent=True)"
   ]
  },
  {
   "cell_type": "markdown",
   "metadata": {},
   "source": [
    "The environment is same as used in TD learning tutorial.\n",
    "One change is that we use a 2D grid to denote state as:\n",
    "- (0,1,2) -> normal grid coordinates with relevant rewards\n",
    "- 3 -> start states\n",
    "- 4 -> goal state\n",
    "- 5 -> current position"
   ]
  },
  {
   "cell_type": "code",
   "execution_count": 3,
   "metadata": {},
   "outputs": [
    {
     "name": "stdout",
     "output_type": "stream",
     "text": [
      "tensor([[[[3., 0., 0., 0., 0., 0., 0., 0., 0., 0., 0., 0., 0., 0., 0., 0., 0.,\n",
      "           0., 0., 0., 3., 0., 0.],\n",
      "          [0., 0., 0., 0., 0., 0., 0., 0., 0., 0., 0., 0., 0., 0., 0., 0., 0.,\n",
      "           0., 0., 0., 0., 0., 0.],\n",
      "          [0., 0., 0., 0., 0., 0., 0., 0., 0., 0., 0., 0., 0., 0., 0., 0., 0.,\n",
      "           0., 0., 0., 0., 0., 0.],\n",
      "          [1., 1., 1., 1., 1., 1., 1., 1., 1., 1., 1., 1., 1., 0., 0., 0., 0.,\n",
      "           0., 0., 0., 0., 0., 0.],\n",
      "          [1., 1., 1., 1., 1., 1., 1., 1., 1., 1., 1., 1., 1., 0., 0., 0., 0.,\n",
      "           0., 0., 0., 0., 0., 0.],\n",
      "          [1., 1., 1., 1., 1., 1., 1., 1., 1., 1., 1., 1., 1., 0., 0., 0., 0.,\n",
      "           0., 0., 0., 0., 0., 0.],\n",
      "          [1., 1., 1., 1., 1., 1., 2., 2., 2., 1., 1., 1., 1., 0., 0., 0., 0.,\n",
      "           0., 0., 0., 0., 0., 0.],\n",
      "          [0., 0., 0., 1., 1., 1., 2., 2., 2., 1., 1., 1., 1., 0., 0., 0., 0.,\n",
      "           0., 0., 0., 0., 0., 0.],\n",
      "          [0., 0., 0., 1., 1., 1., 2., 2., 2., 1., 1., 1., 1., 0., 0., 0., 0.,\n",
      "           0., 0., 0., 0., 0., 0.],\n",
      "          [0., 0., 0., 1., 1., 4., 2., 2., 2., 1., 1., 1., 1., 0., 0., 0., 0.,\n",
      "           0., 0., 0., 0., 0., 0.],\n",
      "          [0., 0., 0., 1., 1., 1., 2., 2., 2., 1., 1., 1., 1., 0., 0., 0., 0.,\n",
      "           0., 0., 0., 0., 0., 0.],\n",
      "          [0., 0., 0., 1., 1., 1., 2., 2., 2., 1., 1., 1., 1., 0., 0., 0., 0.,\n",
      "           0., 0., 0., 0., 0., 0.],\n",
      "          [0., 0., 0., 1., 1., 1., 1., 1., 1., 1., 1., 1., 1., 0., 0., 0., 0.,\n",
      "           0., 0., 0., 0., 0., 0.],\n",
      "          [0., 0., 0., 0., 0., 0., 0., 0., 0., 0., 0., 0., 0., 0., 0., 0., 0.,\n",
      "           0., 0., 0., 0., 0., 0.],\n",
      "          [0., 0., 0., 0., 0., 0., 0., 0., 0., 0., 0., 0., 0., 0., 0., 0., 0.,\n",
      "           0., 0., 0., 0., 0., 0.],\n",
      "          [0., 0., 0., 0., 0., 0., 0., 0., 0., 0., 0., 0., 0., 0., 0., 0., 0.,\n",
      "           0., 0., 0., 0., 0., 0.],\n",
      "          [0., 0., 0., 0., 0., 0., 0., 0., 0., 0., 0., 0., 0., 0., 0., 0., 0.,\n",
      "           0., 0., 0., 0., 5., 0.]]]], device='cuda:0')\n"
     ]
    }
   ],
   "source": [
    "def coords_to_grid(state):\n",
    "    grid = env.coord_to_grid(*state)\n",
    "    state = th.FloatTensor(grid).unsqueeze(0).unsqueeze(0).to(device)\n",
    "    return state\n",
    "print(coords_to_grid(env.state))"
   ]
  },
  {
   "cell_type": "markdown",
   "metadata": {},
   "source": [
    "## Actor Critic Network\n",
    "The AC algorithm need actor network for encoding policy $\\pi(a|s)$ and critic network learns the q values $Q(s,a)$."
   ]
  },
  {
   "cell_type": "code",
   "execution_count": 4,
   "metadata": {},
   "outputs": [],
   "source": [
    "class Flatten(nn.Module):\n",
    "    def forward(self, x):\n",
    "        return x.view(x.shape[0], -1)\n",
    "\n",
    "\n",
    "class ActorCritic(nn.Module):\n",
    "    def __init__(self):\n",
    "        super(ActorCritic, self).__init__()\n",
    "        self.encode_net = nn.Sequential(\n",
    "            nn.Conv2d(1, 4, 3),\n",
    "            nn.ReLU(),\n",
    "            nn.Conv2d(4, 5, 3),\n",
    "            nn.ReLU(),\n",
    "            nn.MaxPool2d(3),\n",
    "            Flatten(),\n",
    "        )\n",
    "        self.actor_net = nn.Sequential(\n",
    "            nn.Linear(120, 100),\n",
    "            nn.ReLU(),\n",
    "            nn.Linear(100, 4),\n",
    "            nn.Softmax(dim=-1)\n",
    "        )\n",
    "        self.critic_net = nn.Sequential(\n",
    "            nn.Linear(120, 100),\n",
    "            nn.ReLU(),\n",
    "            nn.Linear(100, 4)\n",
    "        )\n",
    "    \n",
    "    def critic_forward(self, state):\n",
    "        x = self.encode_net(state)\n",
    "        return self.critic_net(x)\n",
    "    \n",
    "    def actor_forward(self, state):\n",
    "        x = self.encode_net(state)\n",
    "        return self.actor_net(x)\n",
    "    \n",
    "    def forward(self, state):\n",
    "        x = self.encode_net(state)\n",
    "        return self.actor_net(x), self.critic_net(x)\n",
    "    \n",
    "    def sample_action(self, state):\n",
    "        probs = self.actor_forward(state).squeeze()\n",
    "        dist = Categorical(probs)\n",
    "        return dist.sample()"
   ]
  },
  {
   "cell_type": "markdown",
   "metadata": {},
   "source": [
    "We recall the update equation:\n",
    "\n",
    "We use TD error to update the critic parameters\n",
    "\n",
    "$\\delta_t = r_t + Q_{w}(s_{t+1}, a_{t+1}) - Q_{w}(s_{t}, a_{t})$\n",
    "\n",
    "$w \\leftarrow w + \\alpha \\delta_t\\nabla_wQ_{w}(s_t, a_t)$\n",
    "\n",
    "The policy parameter updates is given by\n",
    "\n",
    "$\\theta \\leftarrow \\theta + \\alpha Q_{w}(s_{t}, a_{t})\\nabla_{\\theta}\\ln (\\pi_{\\theta}(a_t| s_t))$"
   ]
  },
  {
   "cell_type": "code",
   "execution_count": 5,
   "metadata": {},
   "outputs": [],
   "source": [
    "def update_ac(net: ActorCritic, opt:optim.Adam, s1, a, r, s2, a2):\n",
    "    prob1, q1 = net(s1)\n",
    "    q1 = q1[th.arange(q1.size(0)), a]\n",
    "    prob1 = prob1[th.arange(prob1.size(0)), a]\n",
    "    q2 = net.critic_forward(s2)\n",
    "    q2 = q2[th.arange(q2.size(0)), a2].detach()\n",
    "    td_error = (r + GAMMA*q2 - q1).pow(2).squeeze().mean()\n",
    "    actor_loss = (-th.log(prob1) * q1.detach()).squeeze().mean()\n",
    "    print(f\"Actor Loss: {actor_loss}, Critic Loss: {td_error}\")\n",
    "    loss = td_error + actor_loss\n",
    "    opt.zero_grad()\n",
    "    loss.backward()\n",
    "    opt.step()\n",
    "\n",
    "    writer.add_scalar(\"Actor_loss\", actor_loss, ct)\n",
    "    writer.add_scalar(\"Critic_loss\", td_error, ct)"
   ]
  },
  {
   "cell_type": "markdown",
   "metadata": {},
   "source": [
    "Finally lets train!"
   ]
  },
  {
   "cell_type": "code",
   "execution_count": 6,
   "metadata": {},
   "outputs": [
    {
     "data": {
      "text/plain": [
       "Reusing TensorBoard on port 6006 (pid 14630), started 1:33:37 ago. (Use '!kill 14630' to kill it.)"
      ]
     },
     "metadata": {},
     "output_type": "display_data"
    },
    {
     "data": {
      "text/html": [
       "\n",
       "      <iframe id=\"tensorboard-frame-dc8941d9625573b9\" width=\"100%\" height=\"800\" frameborder=\"0\">\n",
       "      </iframe>\n",
       "      <script>\n",
       "        (function() {\n",
       "          const frame = document.getElementById(\"tensorboard-frame-dc8941d9625573b9\");\n",
       "          const url = new URL(\"/\", window.location);\n",
       "          url.port = 6006;\n",
       "          frame.src = url;\n",
       "        })();\n",
       "      </script>\n",
       "  "
      ],
      "text/plain": [
       "<IPython.core.display.HTML object>"
      ]
     },
     "metadata": {},
     "output_type": "display_data"
    },
    {
     "name": "stdout",
     "output_type": "stream",
     "text": [
      " Experiment 1\n",
      "Episode 1\n",
      "Actor Loss: 0.007784310728311539, Critic Loss: 6.408914566040039\n",
      "Reward: -466, Steps: 1715\n",
      "Episode 2\n",
      "Actor Loss: -0.07062096148729324, Critic Loss: 2.9504151344299316\n",
      "Reward: -871, Steps: 3890\n",
      "Episode 3\n",
      "Actor Loss: -0.13893654942512512, Critic Loss: 2.849993944168091\n",
      "Reward: -1009, Steps: 4129\n",
      "Episode 4\n",
      "Actor Loss: -0.20523777604103088, Critic Loss: 3.4185941219329834\n",
      "Reward: -657, Steps: 3272\n",
      "Episode 5\n",
      "Actor Loss: -0.26876163482666016, Critic Loss: 5.015333652496338\n",
      "Reward: -388, Steps: 2131\n",
      "Episode 6\n",
      "Actor Loss: -0.32975098490715027, Critic Loss: 3.9918320178985596\n",
      "Reward: -69, Steps: 2586\n",
      "Episode 7\n",
      "Actor Loss: -0.39069250226020813, Critic Loss: 4.83366584777832\n",
      "Reward: -192, Steps: 2170\n",
      "Episode 8\n",
      "Actor Loss: -0.4647614061832428, Critic Loss: 7.563902378082275\n",
      "Reward: -83, Steps: 1361\n",
      "Episode 9\n",
      "Actor Loss: -0.5227586030960083, Critic Loss: 16.65043830871582\n",
      "Reward: 43, Steps: 606\n",
      "Episode 10\n",
      "Actor Loss: -0.5542802214622498, Critic Loss: 4.460060119628906\n",
      "Reward: -455, Steps: 2475\n",
      "Episode 11\n",
      "Actor Loss: -0.5813183188438416, Critic Loss: 101.4620132446289\n",
      "Reward: 18, Steps: 100\n",
      "Episode 12\n",
      "Actor Loss: -0.6199605464935303, Critic Loss: 23.08029556274414\n",
      "Reward: -54, Steps: 446\n",
      "Episode 13\n",
      "Actor Loss: -0.6456125974655151, Critic Loss: 2.0819475650787354\n",
      "Reward: 24, Steps: 4871\n",
      "Episode 14\n",
      "Actor Loss: -0.6588346362113953, Critic Loss: 0.03711814060807228\n",
      "Reward: -148, Steps: 6638\n",
      "Episode 15\n",
      "Actor Loss: -0.658259928226471, Critic Loss: 0.021951887756586075\n",
      "Reward: -70, Steps: 6629\n",
      "Episode 16\n",
      "Actor Loss: -0.6574568152427673, Critic Loss: 3.6224451065063477\n",
      "Reward: 12, Steps: 2801\n",
      "Episode 17\n",
      "Actor Loss: -0.6337136626243591, Critic Loss: 0.01599390245974064\n",
      "Reward: -61, Steps: 6654\n",
      "Episode 18\n",
      "Actor Loss: -0.6314635276794434, Critic Loss: 2.6783995628356934\n",
      "Reward: -34, Steps: 3814\n",
      "Episode 19\n",
      "Actor Loss: -0.6039069294929504, Critic Loss: 0.018799101933836937\n",
      "Reward: -72, Steps: 6658\n",
      "Episode 20\n",
      "Actor Loss: -0.5749375820159912, Critic Loss: 0.022897964343428612\n",
      "Reward: -89, Steps: 6662\n",
      "Episode 21\n",
      "Actor Loss: -0.5515761375427246, Critic Loss: 0.03623685985803604\n",
      "Reward: -147, Steps: 6690\n",
      "Episode 22\n",
      "Actor Loss: -0.5478021502494812, Critic Loss: 205.49581909179688\n",
      "Reward: 79, Steps: 47\n",
      "Episode 23\n",
      "Actor Loss: -0.4624594449996948, Critic Loss: 11.49805736541748\n",
      "Reward: -50, Steps: 881\n",
      "Episode 24\n",
      "Actor Loss: -0.4291253983974457, Critic Loss: 0.04548948258161545\n",
      "Reward: -187, Steps: 6668\n",
      "Episode 25\n",
      "Actor Loss: -0.4019711911678314, Critic Loss: 214.79373168945312\n",
      "Reward: 48, Steps: 47\n",
      "Episode 26\n",
      "Actor Loss: -0.34643006324768066, Critic Loss: 1.8959298133850098\n",
      "Reward: -125, Steps: 5284\n",
      "Episode 27\n",
      "Actor Loss: -0.30549582839012146, Critic Loss: 0.08772601932287216\n",
      "Reward: -360, Steps: 6694\n",
      "Episode 28\n",
      "Actor Loss: -0.2821700870990753, Critic Loss: 11.974308013916016\n",
      "Reward: -36, Steps: 859\n",
      "Episode 29\n",
      "Actor Loss: -0.27639439702033997, Critic Loss: 122.95109558105469\n",
      "Reward: 18, Steps: 83\n",
      "Episode 30\n",
      "Actor Loss: -0.22383932769298553, Critic Loss: 4.683697700500488\n",
      "Reward: -30, Steps: 2182\n",
      "Episode 31\n"
     ]
    },
    {
     "ename": "KeyboardInterrupt",
     "evalue": "",
     "output_type": "error",
     "traceback": [
      "\u001b[0;31m---------------------------------------------------------------------------\u001b[0m",
      "\u001b[0;31mKeyboardInterrupt\u001b[0m                         Traceback (most recent call last)",
      "\u001b[0;32m<ipython-input-6-596725d468dc>\u001b[0m in \u001b[0;36m<module>\u001b[0;34m\u001b[0m\n\u001b[1;32m     38\u001b[0m                 \u001b[0mbuffer\u001b[0m\u001b[0;34m[\u001b[0m\u001b[0;36m3\u001b[0m\u001b[0;34m]\u001b[0m\u001b[0;34m.\u001b[0m\u001b[0mappend\u001b[0m\u001b[0;34m(\u001b[0m\u001b[0ms1\u001b[0m\u001b[0;34m)\u001b[0m\u001b[0;34m\u001b[0m\u001b[0;34m\u001b[0m\u001b[0m\n\u001b[1;32m     39\u001b[0m                 \u001b[0;32mif\u001b[0m \u001b[0;32mnot\u001b[0m \u001b[0mdone\u001b[0m\u001b[0;34m:\u001b[0m\u001b[0;34m\u001b[0m\u001b[0;34m\u001b[0m\u001b[0m\n\u001b[0;32m---> 40\u001b[0;31m                     \u001b[0maction\u001b[0m \u001b[0;34m=\u001b[0m \u001b[0mint\u001b[0m\u001b[0;34m(\u001b[0m\u001b[0mnetwork\u001b[0m\u001b[0;34m.\u001b[0m\u001b[0msample_action\u001b[0m\u001b[0;34m(\u001b[0m\u001b[0ms1\u001b[0m\u001b[0;34m)\u001b[0m\u001b[0;34m.\u001b[0m\u001b[0munsqueeze\u001b[0m\u001b[0;34m(\u001b[0m\u001b[0;36m0\u001b[0m\u001b[0;34m)\u001b[0m\u001b[0;34m.\u001b[0m\u001b[0mdetach\u001b[0m\u001b[0;34m(\u001b[0m\u001b[0;34m)\u001b[0m\u001b[0;34m.\u001b[0m\u001b[0mcpu\u001b[0m\u001b[0;34m(\u001b[0m\u001b[0;34m)\u001b[0m\u001b[0;34m.\u001b[0m\u001b[0mnumpy\u001b[0m\u001b[0;34m(\u001b[0m\u001b[0;34m)\u001b[0m\u001b[0;34m)\u001b[0m\u001b[0;34m\u001b[0m\u001b[0;34m\u001b[0m\u001b[0m\n\u001b[0m\u001b[1;32m     41\u001b[0m                 \u001b[0;32melse\u001b[0m\u001b[0;34m:\u001b[0m\u001b[0;34m\u001b[0m\u001b[0;34m\u001b[0m\u001b[0m\n\u001b[1;32m     42\u001b[0m                     \u001b[0maction\u001b[0m \u001b[0;34m=\u001b[0m \u001b[0mUP\u001b[0m\u001b[0;34m\u001b[0m\u001b[0;34m\u001b[0m\u001b[0m\n",
      "\u001b[0;32m<ipython-input-4-77e0c1a4b1ea>\u001b[0m in \u001b[0;36msample_action\u001b[0;34m(self, state)\u001b[0m\n\u001b[1;32m     41\u001b[0m     \u001b[0;32mdef\u001b[0m \u001b[0msample_action\u001b[0m\u001b[0;34m(\u001b[0m\u001b[0mself\u001b[0m\u001b[0;34m,\u001b[0m \u001b[0mstate\u001b[0m\u001b[0;34m)\u001b[0m\u001b[0;34m:\u001b[0m\u001b[0;34m\u001b[0m\u001b[0;34m\u001b[0m\u001b[0m\n\u001b[1;32m     42\u001b[0m         \u001b[0mprobs\u001b[0m \u001b[0;34m=\u001b[0m \u001b[0mself\u001b[0m\u001b[0;34m.\u001b[0m\u001b[0mactor_forward\u001b[0m\u001b[0;34m(\u001b[0m\u001b[0mstate\u001b[0m\u001b[0;34m)\u001b[0m\u001b[0;34m.\u001b[0m\u001b[0msqueeze\u001b[0m\u001b[0;34m(\u001b[0m\u001b[0;34m)\u001b[0m\u001b[0;34m\u001b[0m\u001b[0;34m\u001b[0m\u001b[0m\n\u001b[0;32m---> 43\u001b[0;31m         \u001b[0mdist\u001b[0m \u001b[0;34m=\u001b[0m \u001b[0mCategorical\u001b[0m\u001b[0;34m(\u001b[0m\u001b[0mprobs\u001b[0m\u001b[0;34m)\u001b[0m\u001b[0;34m\u001b[0m\u001b[0;34m\u001b[0m\u001b[0m\n\u001b[0m\u001b[1;32m     44\u001b[0m         \u001b[0;32mreturn\u001b[0m \u001b[0mdist\u001b[0m\u001b[0;34m.\u001b[0m\u001b[0msample\u001b[0m\u001b[0;34m(\u001b[0m\u001b[0;34m)\u001b[0m\u001b[0;34m\u001b[0m\u001b[0;34m\u001b[0m\u001b[0m\n",
      "\u001b[0;32m~/anaconda3/lib/python3.7/site-packages/torch/distributions/categorical.py\u001b[0m in \u001b[0;36m__init__\u001b[0;34m(self, probs, logits, validate_args)\u001b[0m\n\u001b[1;32m     43\u001b[0m \u001b[0;34m\u001b[0m\u001b[0m\n\u001b[1;32m     44\u001b[0m     \u001b[0;32mdef\u001b[0m \u001b[0m__init__\u001b[0m\u001b[0;34m(\u001b[0m\u001b[0mself\u001b[0m\u001b[0;34m,\u001b[0m \u001b[0mprobs\u001b[0m\u001b[0;34m=\u001b[0m\u001b[0;32mNone\u001b[0m\u001b[0;34m,\u001b[0m \u001b[0mlogits\u001b[0m\u001b[0;34m=\u001b[0m\u001b[0;32mNone\u001b[0m\u001b[0;34m,\u001b[0m \u001b[0mvalidate_args\u001b[0m\u001b[0;34m=\u001b[0m\u001b[0;32mNone\u001b[0m\u001b[0;34m)\u001b[0m\u001b[0;34m:\u001b[0m\u001b[0;34m\u001b[0m\u001b[0;34m\u001b[0m\u001b[0m\n\u001b[0;32m---> 45\u001b[0;31m         \u001b[0;32mif\u001b[0m \u001b[0;34m(\u001b[0m\u001b[0mprobs\u001b[0m \u001b[0;32mis\u001b[0m \u001b[0;32mNone\u001b[0m\u001b[0;34m)\u001b[0m \u001b[0;34m==\u001b[0m \u001b[0;34m(\u001b[0m\u001b[0mlogits\u001b[0m \u001b[0;32mis\u001b[0m \u001b[0;32mNone\u001b[0m\u001b[0;34m)\u001b[0m\u001b[0;34m:\u001b[0m\u001b[0;34m\u001b[0m\u001b[0;34m\u001b[0m\u001b[0m\n\u001b[0m\u001b[1;32m     46\u001b[0m             \u001b[0;32mraise\u001b[0m \u001b[0mValueError\u001b[0m\u001b[0;34m(\u001b[0m\u001b[0;34m\"Either `probs` or `logits` must be specified, but not both.\"\u001b[0m\u001b[0;34m)\u001b[0m\u001b[0;34m\u001b[0m\u001b[0;34m\u001b[0m\u001b[0m\n\u001b[1;32m     47\u001b[0m         \u001b[0;32mif\u001b[0m \u001b[0mprobs\u001b[0m \u001b[0;32mis\u001b[0m \u001b[0;32mnot\u001b[0m \u001b[0;32mNone\u001b[0m\u001b[0;34m:\u001b[0m\u001b[0;34m\u001b[0m\u001b[0;34m\u001b[0m\u001b[0m\n",
      "\u001b[0;31mKeyboardInterrupt\u001b[0m: "
     ]
    }
   ],
   "source": [
    "%load_ext tensorboard\n",
    "%tensorboard --logdir log_dir\n",
    "EXPTS = 1\n",
    "EPISODES=10000\n",
    "PRINT_EVERY = 100\n",
    "\n",
    "REWARDS, STEPS = [], []\n",
    "for e in range(EXPTS):\n",
    "    print(f\" Experiment {e+1}\")\n",
    "    rewards = []\n",
    "    steps = []\n",
    "    ct = 0\n",
    "    writer = SummaryWriter(f\"log_dir/exp{e+1}\", flush_secs=30)\n",
    "    network = ActorCritic().to(device)\n",
    "\n",
    "    opt = optim.Adam(network.parameters(), lr=LR)\n",
    "\n",
    "    for ep in range(EPISODES):\n",
    "        tot_r, tot_s = 0, 0\n",
    "        print(f\"Episode {ep+1}\")\n",
    "        buffer = [[],[],[],[],[]]\n",
    "        done = False\n",
    "        env.reset()\n",
    "        network.eval()\n",
    "        with th.no_grad():\n",
    "            s1 = coords_to_grid(env.state)\n",
    "            action = int(network.sample_action(s1).unsqueeze(0).detach().cpu().numpy())\n",
    "            while not done:\n",
    "                \n",
    "                buffer[0].append(s1.clone())\n",
    "                buffer[1].append(action)\n",
    "                s1, r, done = env.step(action)\n",
    "                tot_r += r\n",
    "                tot_s += 1\n",
    "                steps\n",
    "                s1 = coords_to_grid(s1)\n",
    "                buffer[2].append([r])\n",
    "                buffer[3].append(s1)\n",
    "                if not done:\n",
    "                    action = int(network.sample_action(s1).unsqueeze(0).detach().cpu().numpy())\n",
    "                else:\n",
    "                    action = UP\n",
    "                buffer[4].append(action)\n",
    "            \n",
    "            buffer[0] = th.cat(buffer[0], 0).to(device)\n",
    "            buffer[2] = th.FloatTensor(buffer[2]).to(device)\n",
    "            buffer[3] = th.cat(buffer[3], 0).to(device)\n",
    "        network.train()\n",
    "        update_ac(network, opt, buffer[0], buffer[1], buffer[2], buffer[3], buffer[4])\n",
    "        rewards.append(tot_r)\n",
    "        steps.append(tot_s)\n",
    "        print(f\"Reward: {tot_r}, Steps: {tot_s}\")\n",
    "        writer.add_scalar(\"Reward\", tot_r, ct)\n",
    "        writer.add_scalar(\"Steps\", tot_s, ct)\n",
    "        ct+=1\n",
    "    REWARDS.append(rewards)\n",
    "    STEPS.append(steps)\n",
    "    writer.close()"
   ]
  },
  {
   "cell_type": "code",
   "execution_count": null,
   "metadata": {},
   "outputs": [],
   "source": []
  }
 ],
 "metadata": {
  "kernelspec": {
   "display_name": "Python 3",
   "language": "python",
   "name": "python3"
  },
  "language_info": {
   "codemirror_mode": {
    "name": "ipython",
    "version": 3
   },
   "file_extension": ".py",
   "mimetype": "text/x-python",
   "name": "python",
   "nbconvert_exporter": "python",
   "pygments_lexer": "ipython3",
   "version": "3.7.6"
  }
 },
 "nbformat": 4,
 "nbformat_minor": 4
}
